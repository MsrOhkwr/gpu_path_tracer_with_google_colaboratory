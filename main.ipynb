{
  "nbformat": 4,
  "nbformat_minor": 0,
  "metadata": {
    "colab": {
      "name": "API_test.ipynb",
      "provenance": [],
      "collapsed_sections": [],
      "authorship_tag": "ABX9TyM64DuLPTSBYb/gcsHqY03i",
      "include_colab_link": true
    },
    "kernelspec": {
      "name": "python3",
      "display_name": "Python 3"
    }
  },
  "cells": [
    {
      "cell_type": "markdown",
      "metadata": {
        "id": "view-in-github",
        "colab_type": "text"
      },
      "source": [
        "<a href=\"https://colab.research.google.com/github/MsrOhkwr/gpu_path_tracer_with_google_colaboratory/blob/api_test/main.ipynb\" target=\"_parent\"><img src=\"https://colab.research.google.com/assets/colab-badge.svg\" alt=\"Open In Colab\"/></a>"
      ]
    },
    {
      "cell_type": "code",
      "metadata": {
        "id": "zP7uRZ97288r",
        "colab_type": "code",
        "colab": {}
      },
      "source": [
        "%load_ext autoreload\n",
        "%autoreload 2"
      ],
      "execution_count": 0,
      "outputs": []
    },
    {
      "cell_type": "code",
      "metadata": {
        "id": "64jSOzMc5TrH",
        "colab_type": "code",
        "outputId": "1394b378-0314-49ac-f0c9-d6090bf0dca0",
        "colab": {
          "base_uri": "https://localhost:8080/",
          "height": 68
        }
      },
      "source": [
        "!pip install pyngrok"
      ],
      "execution_count": 2,
      "outputs": [
        {
          "output_type": "stream",
          "text": [
            "Requirement already satisfied: pyngrok in /usr/local/lib/python3.6/dist-packages (2.1.6)\n",
            "Requirement already satisfied: PyYAML in /usr/local/lib/python3.6/dist-packages (from pyngrok) (3.13)\n",
            "Requirement already satisfied: future in /usr/local/lib/python3.6/dist-packages (from pyngrok) (0.16.0)\n"
          ],
          "name": "stdout"
        }
      ]
    },
    {
      "cell_type": "code",
      "metadata": {
        "id": "_JuSMiyDHwED",
        "colab_type": "code",
        "outputId": "005fa2d9-57a2-4ffd-e0b4-fea8a0063ffa",
        "colab": {
          "base_uri": "https://localhost:8080/",
          "height": 34
        }
      },
      "source": [
        "%%file api.py\n",
        "\n",
        "from flask import Flask, Response\n",
        "\n",
        "from engine import Renderer\n",
        "\n",
        "app = Flask(__name__)\n",
        "\n",
        "renderer = Renderer()\n",
        "\n",
        "@app.route(\"/\")\n",
        "def index():\n",
        "    response = Response(renderer.render())\n",
        "    response.headers[\"Access-Control-Allow-Origin\"] = \"*\"\n",
        "    response.headers[\"Content-type\"] = \"multipart/x-mixed-replace; boundary=frame\"\n",
        "    return response"
      ],
      "execution_count": 3,
      "outputs": [
        {
          "output_type": "stream",
          "text": [
            "Overwriting api.py\n"
          ],
          "name": "stdout"
        }
      ]
    },
    {
      "cell_type": "code",
      "metadata": {
        "id": "1egIYTifFqQF",
        "colab_type": "code",
        "colab": {
          "base_uri": "https://localhost:8080/",
          "height": 34
        },
        "outputId": "633ff26d-6af7-4a57-e60a-c47141370930"
      },
      "source": [
        "%%file engine.py\n",
        "\n",
        "import requests\n",
        "\n",
        "class Renderer:\n",
        "    def __init__(self):\n",
        "        url = \"https://raw.githubusercontent.com/opencv/opencv/master/samples/data/butterfly.jpg\"\n",
        "\n",
        "        with requests.get(url) as response:\n",
        "            self.content = response.content\n",
        "\n",
        "\n",
        "    def render(self):\n",
        "        while True:\n",
        "            yield b\"--frame\\r\\nContent-Type: image/jpeg\\r\\n\\r\\n\" + self.content + b\"\\r\\n\""
      ],
      "execution_count": 4,
      "outputs": [
        {
          "output_type": "stream",
          "text": [
            "Overwriting engine.py\n"
          ],
          "name": "stdout"
        }
      ]
    },
    {
      "cell_type": "code",
      "metadata": {
        "id": "tO49w_q9P16K",
        "colab_type": "code",
        "colab": {}
      },
      "source": [
        "from subprocess import Popen\n",
        "import psutil\n",
        "\n",
        "try:\n",
        "    for child in psutil.Process(p.pid).children(recursive=True):\n",
        "        child.kill()\n",
        "    p.kill()\n",
        "except:\n",
        "    pass\n",
        "\n",
        "cmd = [\"gunicorn\", \"api:app\", \"-b\", \"0.0.0.0:80\", \"-k\", \"gevent\"]\n",
        "p = Popen(cmd)"
      ],
      "execution_count": 0,
      "outputs": []
    },
    {
      "cell_type": "code",
      "metadata": {
        "id": "hbRRhl442Abq",
        "colab_type": "code",
        "outputId": "bb195f2f-771b-4f9a-8777-745311cb52e8",
        "colab": {
          "base_uri": "https://localhost:8080/",
          "height": 34
        }
      },
      "source": [
        "from pyngrok import ngrok\n",
        "import socket\n",
        "\n",
        "host = socket.gethostbyname(socket.getfqdn(socket.gethostname()))\n",
        "\n",
        "try:\n",
        "    tunnels = ngrok.get_tunnels()\n",
        "    for tunnel in tunnels:\n",
        "        ngrok.disconnect(tunnel.public_url)\n",
        "except:\n",
        "    pass\n",
        "\n",
        "http_url = ngrok.connect(name=host)\n",
        "https_url = http_url.replace(\"http\", \"https\")\n",
        "print(https_url)"
      ],
      "execution_count": 6,
      "outputs": [
        {
          "output_type": "stream",
          "text": [
            "https://9864c6d9.ngrok.io\n"
          ],
          "name": "stdout"
        }
      ]
    },
    {
      "cell_type": "code",
      "metadata": {
        "id": "pcBKNUHULOt3",
        "colab_type": "code",
        "colab": {
          "base_uri": "https://localhost:8080/",
          "height": 34
        },
        "outputId": "9b22c921-530c-41a7-e595-3e7450cc8292"
      },
      "source": [
        "%%file index.html\n",
        "\n",
        "<img src=\"$https_url\">"
      ],
      "execution_count": 7,
      "outputs": [
        {
          "output_type": "stream",
          "text": [
            "Overwriting index.html\n"
          ],
          "name": "stdout"
        }
      ]
    },
    {
      "cell_type": "code",
      "metadata": {
        "id": "gAcqC2VnIyB6",
        "colab_type": "code",
        "outputId": "576a6ab8-755f-42cf-abef-5b61ba034213",
        "colab": {
          "base_uri": "https://localhost:8080/",
          "height": 377
        }
      },
      "source": [
        "from IPython.display import HTML\n",
        "from string import Template\n",
        "\n",
        "src = Template(open(\"index.html\").read()).substitute(https_url=https_url)\n",
        "\n",
        "HTML(src)"
      ],
      "execution_count": 8,
      "outputs": [
        {
          "output_type": "execute_result",
          "data": {
            "text/html": [
              "\n",
              "<img src=\"https://9864c6d9.ngrok.io\">"
            ],
            "text/plain": [
              "<IPython.core.display.HTML object>"
            ]
          },
          "metadata": {
            "tags": []
          },
          "execution_count": 8
        }
      ]
    },
    {
      "cell_type": "code",
      "metadata": {
        "id": "3-6dvhI-CY7g",
        "colab_type": "code",
        "colab": {}
      },
      "source": [
        ""
      ],
      "execution_count": 0,
      "outputs": []
    }
  ]
}